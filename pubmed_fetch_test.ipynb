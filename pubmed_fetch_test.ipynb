{
 "cells": [
  {
   "cell_type": "code",
   "execution_count": 1,
   "id": "fb584b96-4d78-4961-91a4-8d93c5ceee3e",
   "metadata": {},
   "outputs": [
    {
     "name": "stdout",
     "output_type": "stream",
     "text": [
      "Saved 9 papers to vaccine_output.csv\n"
     ]
    }
   ],
   "source": [
    "###Importing Libraries####\n",
    "\n",
    "import requests\n",
    "import xml.etree.ElementTree as ET\n",
    "import pandas as pd\n",
    "from typing import List, Dict\n",
    "\n",
    "#### This function is defining helper to check academic affiliation ####\n",
    "\n",
    "def is_non_academic(affiliation: str) -> bool:\n",
    "    academic_keywords = [\n",
    "        \"university\", \"institute\", \"college\", \"hospital\", \"school\", \"center\", \"centre\", \"dept\"\n",
    "    ]\n",
    "    affiliation_lower = affiliation.lower()\n",
    "    return not any(keyword in affiliation_lower for keyword in academic_keywords)\n",
    "\n",
    "### This function retrieves PubMed article IDs (PMIDs) for a given search query by interacting with the NCBI's E-utilities API#####\n",
    "\n",
    "def get_pubmed_ids(query: str, max_results: int = 10) -> List[str]:\n",
    "    url = \"https://eutils.ncbi.nlm.nih.gov/entrez/eutils/esearch.fcgi\"\n",
    "    params = {\n",
    "        \"db\": \"pubmed\",\n",
    "        \"term\": query,\n",
    "        \"retmode\": \"json\",\n",
    "        \"retmax\": max_results\n",
    "    }\n",
    "    response = requests.get(url, params=params)\n",
    "    data = response.json()\n",
    "    return data[\"esearchresult\"][\"idlist\"]\n",
    "\n",
    "### This function fetches detailed information about PubMed articles given their PubMed IDs (PMIDs), with a specific focus on identifying non-academic authors and their affiliations. #####\n",
    "\n",
    "def fetch_paper_details(pubmed_ids: List[str]) -> List[Dict]:\n",
    "    url = \"https://eutils.ncbi.nlm.nih.gov/entrez/eutils/efetch.fcgi\"\n",
    "    params = {\n",
    "        \"db\": \"pubmed\",\n",
    "        \"id\": \",\".join(pubmed_ids),\n",
    "        \"retmode\": \"xml\"\n",
    "    }\n",
    "    response = requests.get(url, params=params)\n",
    "    root = ET.fromstring(response.text)\n",
    "    \n",
    "    papers = []\n",
    "\n",
    "    for article in root.findall(\".//PubmedArticle\"):\n",
    "        pmid = article.findtext(\".//PMID\")\n",
    "        title = article.findtext(\".//ArticleTitle\")\n",
    "        pub_date = article.findtext(\".//PubDate/Year\") or \"Unknown\"\n",
    "        \n",
    "        non_academic_authors = []\n",
    "        company_affiliations = []\n",
    "        corresponding_email = \"N/A\"\n",
    "\n",
    "        for author in article.findall(\".//Author\"):\n",
    "            affiliation = author.findtext(\".//AffiliationInfo/Affiliation\")\n",
    "            name_parts = [\n",
    "                author.findtext(\"ForeName\") or \"\",\n",
    "                author.findtext(\"LastName\") or \"\"\n",
    "            ]\n",
    "            full_name = \" \".join(name_parts).strip()\n",
    "\n",
    "            if affiliation and is_non_academic(affiliation):\n",
    "                non_academic_authors.append(full_name)\n",
    "                company_affiliations.append(affiliation)\n",
    "\n",
    "            # Extract email\n",
    "            if affiliation and \"@\" in affiliation and corresponding_email == \"N/A\":\n",
    "                corresponding_email = affiliation.split()[-1]  # crude way to get email\n",
    "\n",
    "        if non_academic_authors:\n",
    "            papers.append({\n",
    "                \"PubmedID\": pmid,\n",
    "                \"Title\": title,\n",
    "                \"Publication Date\": pub_date,\n",
    "                \"Non-academic Author(s)\": \"; \".join(non_academic_authors),\n",
    "                \"Company Affiliation(s)\": \"; \".join(company_affiliations),\n",
    "                \"Corresponding Author Email\": corresponding_email\n",
    "            })\n",
    "\n",
    "    return papers\n",
    "\n",
    "### This function saves a list of paper dictionaries to a CSV file using pandas. #####\n",
    "\n",
    "def save_to_csv(papers: List[Dict], filename: str = \"output.csv\"):\n",
    "    df = pd.DataFrame(papers)\n",
    "    df.to_csv(filename, index=False)\n",
    "    print(f\"Saved {len(df)} papers to {filename}\")\n",
    "\n",
    "#### This code performs a complete PubMed search pipeline, from querying article IDs to saving detailed results in a CSV file. ####\n",
    "\n",
    "query = \"vaccine development\"\n",
    "ids = get_pubmed_ids(query, max_results=20)\n",
    "papers = fetch_paper_details(ids)\n",
    "save_to_csv(papers, \"vaccine_output.csv\")\n"
   ]
  },
  {
   "cell_type": "code",
   "execution_count": 2,
   "id": "5be70b9e-89a2-421b-aa2a-d24048f302e5",
   "metadata": {},
   "outputs": [],
   "source": [
    "#### testing ####"
   ]
  },
  {
   "cell_type": "code",
   "execution_count": 3,
   "id": "1e289868-31d6-4da4-978a-02d12c857ae2",
   "metadata": {},
   "outputs": [
    {
     "name": "stdout",
     "output_type": "stream",
     "text": [
      "PubMed IDs: ['40626925', '40626318', '40625176', '40624462', '40624061', '40623607', '40622507', '40622505', '40621109', '40620155']\n",
      "Filtered papers: [{'PubmedID': '40626318', 'Title': 'Leveraged Vaccination to Alleviate Original Antigenic Sin for Enhancing Broad-Neutralizing Antibody Response against SARS-CoV-2 Omicron Subvariants.', 'Publication Date': '2025', 'Non-academic Author(s)': 'Kai Ji; Xishan Lu; Bo Ying', 'Company Affiliation(s)': 'Suzhou Abogen Biosciences Co., Ltd. Suzhou Jiangsu China.; Suzhou Abogen Biosciences Co., Ltd. Suzhou Jiangsu China.; Suzhou Abogen Biosciences Co., Ltd. Suzhou Jiangsu China.', 'Corresponding Author Email': 'N/A'}]\n",
      "Saved 1 papers to mrna_vaccine_output.csv\n"
     ]
    }
   ],
   "source": [
    "query = \"mRNA vaccine\"\n",
    "ids = get_pubmed_ids(query, max_results=10)\n",
    "print(\"PubMed IDs:\", ids)\n",
    "\n",
    "papers = fetch_paper_details(ids)\n",
    "print(\"Filtered papers:\", papers[:2])  # Print first 2 for preview\n",
    "\n",
    "save_to_csv(papers, \"mrna_vaccine_output.csv\")\n"
   ]
  },
  {
   "cell_type": "code",
   "execution_count": null,
   "id": "ff17e2f9-e75a-4547-ad9f-58416ff2ef6e",
   "metadata": {},
   "outputs": [],
   "source": []
  }
 ],
 "metadata": {
  "kernelspec": {
   "display_name": "Python 3 (ipykernel)",
   "language": "python",
   "name": "python3"
  },
  "language_info": {
   "codemirror_mode": {
    "name": "ipython",
    "version": 3
   },
   "file_extension": ".py",
   "mimetype": "text/x-python",
   "name": "python",
   "nbconvert_exporter": "python",
   "pygments_lexer": "ipython3",
   "version": "3.10.0"
  }
 },
 "nbformat": 4,
 "nbformat_minor": 5
}
